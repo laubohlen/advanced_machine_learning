{
 "cells": [
  {
   "cell_type": "markdown",
   "metadata": {},
   "source": [
    "Edited notebook from tensorflow [tutorial](https://www.tensorflow.org/tutorials/structured_data/imbalanced_data) on working with imbalanced data."
   ]
  },
  {
   "cell_type": "markdown",
   "metadata": {},
   "source": [
    "### TASK 2: DISEASE CLASSIFICATION FROM IMAGE FEATURES\n",
    "\n",
    "This task is primarily concerned with multi-class classification where you have 3 classes. However, we have changed the original image features in several ways. You will need to deal with class imbalance; in the training set, there are 600 examples from class 0 and 2 but 3600 examples from class 1. Test set has the same class imbalance as the training set."
   ]
  },
  {
   "cell_type": "markdown",
   "metadata": {
    "id": "kRHmSyHxEIhN"
   },
   "source": [
    "## Setup"
   ]
  },
  {
   "cell_type": "code",
   "execution_count": 36,
   "metadata": {
    "id": "JM7hDSNClfoK"
   },
   "outputs": [],
   "source": [
    "import tensorflow as tf\n",
    "from tensorflow import keras\n",
    "from keras.wrappers.scikit_learn import KerasClassifier\n",
    "\n",
    "import os\n",
    "import tempfile\n",
    "\n",
    "import matplotlib as mpl\n",
    "import matplotlib.pyplot as plt\n",
    "import numpy as np\n",
    "import pandas as pd\n",
    "import seaborn as sns\n",
    "\n",
    "import sklearn\n",
    "from sklearn.metrics import confusion_matrix\n",
    "from sklearn.metrics import balanced_accuracy_score\n",
    "from sklearn.model_selection import train_test_split\n",
    "from sklearn.model_selection import StratifiedKFold\n",
    "from sklearn.model_selection import KFold\n",
    "from sklearn.model_selection import cross_val_score\n",
    "from sklearn.preprocessing import StandardScaler\n",
    "from sklearn.preprocessing import MinMaxScaler"
   ]
  },
  {
   "cell_type": "code",
   "execution_count": 37,
   "metadata": {
    "id": "c8o1FHzD-_y_"
   },
   "outputs": [],
   "source": [
    "mpl.rcParams['figure.figsize'] = (12, 10)\n",
    "colors = plt.rcParams['axes.prop_cycle'].by_key()['color']"
   ]
  },
  {
   "cell_type": "markdown",
   "metadata": {
    "id": "Z3iZVjziKHmX"
   },
   "source": [
    "## Data processing and exploration"
   ]
  },
  {
   "cell_type": "markdown",
   "metadata": {},
   "source": [
    "DISEASE CLASSIFICATION FROM IMAGE FEATURES\n",
    "\n",
    "This task is primarily concerned with multi-class classification where you have 3 classes. However, we have changed the original image features in several ways. You will need to deal with class imbalance; in the training set, there are 600 examples from class 0 and 2 but 3600 examples from class 1. Test set has the same class imbalance as the training set."
   ]
  },
  {
   "cell_type": "code",
   "execution_count": 38,
   "metadata": {
    "id": "pR_SnbMArXr7"
   },
   "outputs": [
    {
     "data": {
      "text/html": [
       "<div>\n",
       "<style scoped>\n",
       "    .dataframe tbody tr th:only-of-type {\n",
       "        vertical-align: middle;\n",
       "    }\n",
       "\n",
       "    .dataframe tbody tr th {\n",
       "        vertical-align: top;\n",
       "    }\n",
       "\n",
       "    .dataframe thead th {\n",
       "        text-align: right;\n",
       "    }\n",
       "</style>\n",
       "<table border=\"1\" class=\"dataframe\">\n",
       "  <thead>\n",
       "    <tr style=\"text-align: right;\">\n",
       "      <th></th>\n",
       "      <th>x0</th>\n",
       "      <th>x1</th>\n",
       "      <th>x2</th>\n",
       "      <th>x3</th>\n",
       "      <th>x4</th>\n",
       "      <th>x5</th>\n",
       "      <th>x6</th>\n",
       "      <th>x7</th>\n",
       "      <th>x8</th>\n",
       "      <th>x9</th>\n",
       "      <th>...</th>\n",
       "      <th>x991</th>\n",
       "      <th>x992</th>\n",
       "      <th>x993</th>\n",
       "      <th>x994</th>\n",
       "      <th>x995</th>\n",
       "      <th>x996</th>\n",
       "      <th>x997</th>\n",
       "      <th>x998</th>\n",
       "      <th>x999</th>\n",
       "      <th>y</th>\n",
       "    </tr>\n",
       "  </thead>\n",
       "  <tbody>\n",
       "    <tr>\n",
       "      <th>0</th>\n",
       "      <td>-1.498973</td>\n",
       "      <td>1.448201</td>\n",
       "      <td>2.784979</td>\n",
       "      <td>1.905992</td>\n",
       "      <td>1.285007</td>\n",
       "      <td>-0.571679</td>\n",
       "      <td>1.253798</td>\n",
       "      <td>-2.590709</td>\n",
       "      <td>1.379211</td>\n",
       "      <td>-1.553323</td>\n",
       "      <td>...</td>\n",
       "      <td>-1.365574</td>\n",
       "      <td>2.856497</td>\n",
       "      <td>-1.916006</td>\n",
       "      <td>1.406900</td>\n",
       "      <td>-2.581604</td>\n",
       "      <td>0.839115</td>\n",
       "      <td>-0.004883</td>\n",
       "      <td>3.173465</td>\n",
       "      <td>2.179183</td>\n",
       "      <td>1</td>\n",
       "    </tr>\n",
       "    <tr>\n",
       "      <th>1</th>\n",
       "      <td>-0.521470</td>\n",
       "      <td>-0.493049</td>\n",
       "      <td>0.891382</td>\n",
       "      <td>-0.080855</td>\n",
       "      <td>0.227825</td>\n",
       "      <td>-0.167394</td>\n",
       "      <td>-0.426608</td>\n",
       "      <td>0.371071</td>\n",
       "      <td>-0.065361</td>\n",
       "      <td>-0.271039</td>\n",
       "      <td>...</td>\n",
       "      <td>-0.443464</td>\n",
       "      <td>-0.540985</td>\n",
       "      <td>-0.164082</td>\n",
       "      <td>0.223598</td>\n",
       "      <td>0.274742</td>\n",
       "      <td>-0.122392</td>\n",
       "      <td>0.971394</td>\n",
       "      <td>0.604963</td>\n",
       "      <td>0.355499</td>\n",
       "      <td>0</td>\n",
       "    </tr>\n",
       "    <tr>\n",
       "      <th>2</th>\n",
       "      <td>-0.417724</td>\n",
       "      <td>-0.019106</td>\n",
       "      <td>0.938377</td>\n",
       "      <td>-0.670472</td>\n",
       "      <td>0.298922</td>\n",
       "      <td>0.917788</td>\n",
       "      <td>0.189585</td>\n",
       "      <td>-0.259406</td>\n",
       "      <td>0.591056</td>\n",
       "      <td>-1.391407</td>\n",
       "      <td>...</td>\n",
       "      <td>-0.543036</td>\n",
       "      <td>-0.321695</td>\n",
       "      <td>-1.778676</td>\n",
       "      <td>1.118608</td>\n",
       "      <td>-0.937445</td>\n",
       "      <td>-0.239242</td>\n",
       "      <td>0.842709</td>\n",
       "      <td>2.086818</td>\n",
       "      <td>0.512741</td>\n",
       "      <td>1</td>\n",
       "    </tr>\n",
       "    <tr>\n",
       "      <th>3</th>\n",
       "      <td>-0.471972</td>\n",
       "      <td>0.000398</td>\n",
       "      <td>0.784836</td>\n",
       "      <td>1.088817</td>\n",
       "      <td>-0.436292</td>\n",
       "      <td>0.023086</td>\n",
       "      <td>0.611958</td>\n",
       "      <td>-0.720903</td>\n",
       "      <td>0.310497</td>\n",
       "      <td>-0.703081</td>\n",
       "      <td>...</td>\n",
       "      <td>-1.942345</td>\n",
       "      <td>0.366181</td>\n",
       "      <td>-1.226904</td>\n",
       "      <td>1.152494</td>\n",
       "      <td>-0.104389</td>\n",
       "      <td>0.702375</td>\n",
       "      <td>0.426496</td>\n",
       "      <td>0.336746</td>\n",
       "      <td>1.304973</td>\n",
       "      <td>1</td>\n",
       "    </tr>\n",
       "    <tr>\n",
       "      <th>4</th>\n",
       "      <td>0.201026</td>\n",
       "      <td>-0.579901</td>\n",
       "      <td>0.638809</td>\n",
       "      <td>-0.614121</td>\n",
       "      <td>0.468388</td>\n",
       "      <td>0.535726</td>\n",
       "      <td>0.271890</td>\n",
       "      <td>0.054270</td>\n",
       "      <td>0.297078</td>\n",
       "      <td>-0.677568</td>\n",
       "      <td>...</td>\n",
       "      <td>0.203202</td>\n",
       "      <td>-0.150227</td>\n",
       "      <td>-0.026890</td>\n",
       "      <td>0.106822</td>\n",
       "      <td>-1.202451</td>\n",
       "      <td>0.098924</td>\n",
       "      <td>0.825237</td>\n",
       "      <td>1.044778</td>\n",
       "      <td>0.071464</td>\n",
       "      <td>1</td>\n",
       "    </tr>\n",
       "  </tbody>\n",
       "</table>\n",
       "<p>5 rows × 1001 columns</p>\n",
       "</div>"
      ],
      "text/plain": [
       "         x0        x1        x2        x3        x4        x5        x6  \\\n",
       "0 -1.498973  1.448201  2.784979  1.905992  1.285007 -0.571679  1.253798   \n",
       "1 -0.521470 -0.493049  0.891382 -0.080855  0.227825 -0.167394 -0.426608   \n",
       "2 -0.417724 -0.019106  0.938377 -0.670472  0.298922  0.917788  0.189585   \n",
       "3 -0.471972  0.000398  0.784836  1.088817 -0.436292  0.023086  0.611958   \n",
       "4  0.201026 -0.579901  0.638809 -0.614121  0.468388  0.535726  0.271890   \n",
       "\n",
       "         x7        x8        x9  ...      x991      x992      x993      x994  \\\n",
       "0 -2.590709  1.379211 -1.553323  ... -1.365574  2.856497 -1.916006  1.406900   \n",
       "1  0.371071 -0.065361 -0.271039  ... -0.443464 -0.540985 -0.164082  0.223598   \n",
       "2 -0.259406  0.591056 -1.391407  ... -0.543036 -0.321695 -1.778676  1.118608   \n",
       "3 -0.720903  0.310497 -0.703081  ... -1.942345  0.366181 -1.226904  1.152494   \n",
       "4  0.054270  0.297078 -0.677568  ...  0.203202 -0.150227 -0.026890  0.106822   \n",
       "\n",
       "       x995      x996      x997      x998      x999  y  \n",
       "0 -2.581604  0.839115 -0.004883  3.173465  2.179183  1  \n",
       "1  0.274742 -0.122392  0.971394  0.604963  0.355499  0  \n",
       "2 -0.937445 -0.239242  0.842709  2.086818  0.512741  1  \n",
       "3 -0.104389  0.702375  0.426496  0.336746  1.304973  1  \n",
       "4 -1.202451  0.098924  0.825237  1.044778  0.071464  1  \n",
       "\n",
       "[5 rows x 1001 columns]"
      ]
     },
     "execution_count": 38,
     "metadata": {},
     "output_type": "execute_result"
    }
   ],
   "source": [
    "#X_test = pd.read_csv('./data/X_test.csv')\n",
    "#X_train = X_train.drop(columns='id').to_numpy()\n",
    "#y_train = y_train.drop(columns='id').to_numpy()[:, 0]\n",
    "#X_test = X_test.drop(columns='id').to_numpy()\n",
    "\n",
    "X_train = pd.read_csv('./data/X_train.csv')\n",
    "y_train = pd.read_csv('./data/y_train.csv')\n",
    "X_train['y'] = y_train['y']\n",
    "raw_df = X_train.drop(['id'], axis=1)\n",
    "raw_df.head()"
   ]
  },
  {
   "cell_type": "code",
   "execution_count": 39,
   "metadata": {
    "id": "-fgdQgmwUFuj"
   },
   "outputs": [
    {
     "data": {
      "text/html": [
       "<div>\n",
       "<style scoped>\n",
       "    .dataframe tbody tr th:only-of-type {\n",
       "        vertical-align: middle;\n",
       "    }\n",
       "\n",
       "    .dataframe tbody tr th {\n",
       "        vertical-align: top;\n",
       "    }\n",
       "\n",
       "    .dataframe thead th {\n",
       "        text-align: right;\n",
       "    }\n",
       "</style>\n",
       "<table border=\"1\" class=\"dataframe\">\n",
       "  <thead>\n",
       "    <tr style=\"text-align: right;\">\n",
       "      <th></th>\n",
       "      <th>x0</th>\n",
       "      <th>x1</th>\n",
       "      <th>x2</th>\n",
       "      <th>x3</th>\n",
       "      <th>x4</th>\n",
       "      <th>x5</th>\n",
       "      <th>x6</th>\n",
       "      <th>x7</th>\n",
       "      <th>x8</th>\n",
       "      <th>x9</th>\n",
       "      <th>...</th>\n",
       "      <th>x990</th>\n",
       "      <th>x991</th>\n",
       "      <th>x992</th>\n",
       "      <th>x993</th>\n",
       "      <th>x994</th>\n",
       "      <th>x995</th>\n",
       "      <th>x996</th>\n",
       "      <th>x997</th>\n",
       "      <th>x998</th>\n",
       "      <th>x999</th>\n",
       "    </tr>\n",
       "  </thead>\n",
       "  <tbody>\n",
       "    <tr>\n",
       "      <th>count</th>\n",
       "      <td>4800.000000</td>\n",
       "      <td>4800.000000</td>\n",
       "      <td>4800.000000</td>\n",
       "      <td>4800.000000</td>\n",
       "      <td>4800.000000</td>\n",
       "      <td>4800.000000</td>\n",
       "      <td>4800.000000</td>\n",
       "      <td>4800.000000</td>\n",
       "      <td>4800.000000</td>\n",
       "      <td>4800.000000</td>\n",
       "      <td>...</td>\n",
       "      <td>4800.000000</td>\n",
       "      <td>4800.000000</td>\n",
       "      <td>4800.000000</td>\n",
       "      <td>4800.000000</td>\n",
       "      <td>4800.000000</td>\n",
       "      <td>4800.000000</td>\n",
       "      <td>4800.000000</td>\n",
       "      <td>4800.000000</td>\n",
       "      <td>4800.000000</td>\n",
       "      <td>4800.000000</td>\n",
       "    </tr>\n",
       "    <tr>\n",
       "      <th>mean</th>\n",
       "      <td>-0.403221</td>\n",
       "      <td>0.220492</td>\n",
       "      <td>1.106921</td>\n",
       "      <td>0.068664</td>\n",
       "      <td>0.279619</td>\n",
       "      <td>0.388415</td>\n",
       "      <td>0.236717</td>\n",
       "      <td>-0.152921</td>\n",
       "      <td>0.432778</td>\n",
       "      <td>-0.752647</td>\n",
       "      <td>...</td>\n",
       "      <td>0.673128</td>\n",
       "      <td>-0.444427</td>\n",
       "      <td>0.448460</td>\n",
       "      <td>-0.693521</td>\n",
       "      <td>0.540356</td>\n",
       "      <td>-0.729529</td>\n",
       "      <td>0.395605</td>\n",
       "      <td>0.440266</td>\n",
       "      <td>1.240888</td>\n",
       "      <td>0.937046</td>\n",
       "    </tr>\n",
       "    <tr>\n",
       "      <th>std</th>\n",
       "      <td>0.663232</td>\n",
       "      <td>0.764817</td>\n",
       "      <td>0.794665</td>\n",
       "      <td>0.888101</td>\n",
       "      <td>0.690293</td>\n",
       "      <td>0.628839</td>\n",
       "      <td>0.625738</td>\n",
       "      <td>0.782704</td>\n",
       "      <td>0.568082</td>\n",
       "      <td>0.573664</td>\n",
       "      <td>...</td>\n",
       "      <td>0.866030</td>\n",
       "      <td>0.706408</td>\n",
       "      <td>0.786608</td>\n",
       "      <td>1.033146</td>\n",
       "      <td>0.707031</td>\n",
       "      <td>0.729511</td>\n",
       "      <td>0.584042</td>\n",
       "      <td>0.574004</td>\n",
       "      <td>0.668117</td>\n",
       "      <td>0.884328</td>\n",
       "    </tr>\n",
       "    <tr>\n",
       "      <th>min</th>\n",
       "      <td>-3.026434</td>\n",
       "      <td>-2.177817</td>\n",
       "      <td>-0.993103</td>\n",
       "      <td>-2.958118</td>\n",
       "      <td>-1.992190</td>\n",
       "      <td>-2.229151</td>\n",
       "      <td>-1.620785</td>\n",
       "      <td>-3.842304</td>\n",
       "      <td>-2.046807</td>\n",
       "      <td>-3.980367</td>\n",
       "      <td>...</td>\n",
       "      <td>-1.351814</td>\n",
       "      <td>-3.587288</td>\n",
       "      <td>-2.027416</td>\n",
       "      <td>-4.932804</td>\n",
       "      <td>-1.548640</td>\n",
       "      <td>-3.720113</td>\n",
       "      <td>-1.686527</td>\n",
       "      <td>-2.076105</td>\n",
       "      <td>-1.547162</td>\n",
       "      <td>-1.861970</td>\n",
       "    </tr>\n",
       "    <tr>\n",
       "      <th>25%</th>\n",
       "      <td>-0.827374</td>\n",
       "      <td>-0.306275</td>\n",
       "      <td>0.518833</td>\n",
       "      <td>-0.604431</td>\n",
       "      <td>-0.180091</td>\n",
       "      <td>-0.002606</td>\n",
       "      <td>-0.188781</td>\n",
       "      <td>-0.681943</td>\n",
       "      <td>0.096057</td>\n",
       "      <td>-1.084700</td>\n",
       "      <td>...</td>\n",
       "      <td>0.027572</td>\n",
       "      <td>-0.854477</td>\n",
       "      <td>-0.152561</td>\n",
       "      <td>-1.446615</td>\n",
       "      <td>0.039625</td>\n",
       "      <td>-1.209385</td>\n",
       "      <td>0.012024</td>\n",
       "      <td>0.107948</td>\n",
       "      <td>0.773387</td>\n",
       "      <td>0.276949</td>\n",
       "    </tr>\n",
       "    <tr>\n",
       "      <th>50%</th>\n",
       "      <td>-0.312958</td>\n",
       "      <td>0.084477</td>\n",
       "      <td>0.933785</td>\n",
       "      <td>-0.061674</td>\n",
       "      <td>0.199699</td>\n",
       "      <td>0.357911</td>\n",
       "      <td>0.147484</td>\n",
       "      <td>-0.049152</td>\n",
       "      <td>0.409125</td>\n",
       "      <td>-0.696674</td>\n",
       "      <td>...</td>\n",
       "      <td>0.473798</td>\n",
       "      <td>-0.344868</td>\n",
       "      <td>0.325952</td>\n",
       "      <td>-0.603889</td>\n",
       "      <td>0.457354</td>\n",
       "      <td>-0.640468</td>\n",
       "      <td>0.335444</td>\n",
       "      <td>0.454828</td>\n",
       "      <td>1.138441</td>\n",
       "      <td>0.752086</td>\n",
       "    </tr>\n",
       "    <tr>\n",
       "      <th>75%</th>\n",
       "      <td>0.076125</td>\n",
       "      <td>0.624882</td>\n",
       "      <td>1.585165</td>\n",
       "      <td>0.737608</td>\n",
       "      <td>0.644108</td>\n",
       "      <td>0.753130</td>\n",
       "      <td>0.612462</td>\n",
       "      <td>0.409195</td>\n",
       "      <td>0.752769</td>\n",
       "      <td>-0.361554</td>\n",
       "      <td>...</td>\n",
       "      <td>1.246985</td>\n",
       "      <td>0.048537</td>\n",
       "      <td>0.971055</td>\n",
       "      <td>0.111399</td>\n",
       "      <td>0.978256</td>\n",
       "      <td>-0.192801</td>\n",
       "      <td>0.727108</td>\n",
       "      <td>0.792661</td>\n",
       "      <td>1.625235</td>\n",
       "      <td>1.549565</td>\n",
       "    </tr>\n",
       "    <tr>\n",
       "      <th>max</th>\n",
       "      <td>1.769423</td>\n",
       "      <td>4.102255</td>\n",
       "      <td>4.946383</td>\n",
       "      <td>3.461174</td>\n",
       "      <td>3.682944</td>\n",
       "      <td>3.209605</td>\n",
       "      <td>3.303836</td>\n",
       "      <td>2.223731</td>\n",
       "      <td>3.235681</td>\n",
       "      <td>0.823849</td>\n",
       "      <td>...</td>\n",
       "      <td>5.333272</td>\n",
       "      <td>1.840349</td>\n",
       "      <td>3.701539</td>\n",
       "      <td>2.378358</td>\n",
       "      <td>3.393483</td>\n",
       "      <td>2.271806</td>\n",
       "      <td>3.589027</td>\n",
       "      <td>2.841595</td>\n",
       "      <td>5.489396</td>\n",
       "      <td>4.947546</td>\n",
       "    </tr>\n",
       "  </tbody>\n",
       "</table>\n",
       "<p>8 rows × 1000 columns</p>\n",
       "</div>"
      ],
      "text/plain": [
       "                x0           x1           x2           x3           x4  \\\n",
       "count  4800.000000  4800.000000  4800.000000  4800.000000  4800.000000   \n",
       "mean     -0.403221     0.220492     1.106921     0.068664     0.279619   \n",
       "std       0.663232     0.764817     0.794665     0.888101     0.690293   \n",
       "min      -3.026434    -2.177817    -0.993103    -2.958118    -1.992190   \n",
       "25%      -0.827374    -0.306275     0.518833    -0.604431    -0.180091   \n",
       "50%      -0.312958     0.084477     0.933785    -0.061674     0.199699   \n",
       "75%       0.076125     0.624882     1.585165     0.737608     0.644108   \n",
       "max       1.769423     4.102255     4.946383     3.461174     3.682944   \n",
       "\n",
       "                x5           x6           x7           x8           x9  ...  \\\n",
       "count  4800.000000  4800.000000  4800.000000  4800.000000  4800.000000  ...   \n",
       "mean      0.388415     0.236717    -0.152921     0.432778    -0.752647  ...   \n",
       "std       0.628839     0.625738     0.782704     0.568082     0.573664  ...   \n",
       "min      -2.229151    -1.620785    -3.842304    -2.046807    -3.980367  ...   \n",
       "25%      -0.002606    -0.188781    -0.681943     0.096057    -1.084700  ...   \n",
       "50%       0.357911     0.147484    -0.049152     0.409125    -0.696674  ...   \n",
       "75%       0.753130     0.612462     0.409195     0.752769    -0.361554  ...   \n",
       "max       3.209605     3.303836     2.223731     3.235681     0.823849  ...   \n",
       "\n",
       "              x990         x991         x992         x993         x994  \\\n",
       "count  4800.000000  4800.000000  4800.000000  4800.000000  4800.000000   \n",
       "mean      0.673128    -0.444427     0.448460    -0.693521     0.540356   \n",
       "std       0.866030     0.706408     0.786608     1.033146     0.707031   \n",
       "min      -1.351814    -3.587288    -2.027416    -4.932804    -1.548640   \n",
       "25%       0.027572    -0.854477    -0.152561    -1.446615     0.039625   \n",
       "50%       0.473798    -0.344868     0.325952    -0.603889     0.457354   \n",
       "75%       1.246985     0.048537     0.971055     0.111399     0.978256   \n",
       "max       5.333272     1.840349     3.701539     2.378358     3.393483   \n",
       "\n",
       "              x995         x996         x997         x998         x999  \n",
       "count  4800.000000  4800.000000  4800.000000  4800.000000  4800.000000  \n",
       "mean     -0.729529     0.395605     0.440266     1.240888     0.937046  \n",
       "std       0.729511     0.584042     0.574004     0.668117     0.884328  \n",
       "min      -3.720113    -1.686527    -2.076105    -1.547162    -1.861970  \n",
       "25%      -1.209385     0.012024     0.107948     0.773387     0.276949  \n",
       "50%      -0.640468     0.335444     0.454828     1.138441     0.752086  \n",
       "75%      -0.192801     0.727108     0.792661     1.625235     1.549565  \n",
       "max       2.271806     3.589027     2.841595     5.489396     4.947546  \n",
       "\n",
       "[8 rows x 1000 columns]"
      ]
     },
     "execution_count": 39,
     "metadata": {},
     "output_type": "execute_result"
    }
   ],
   "source": [
    "desc = raw_df[raw_df.drop(['y'], axis=1).columns.tolist()].describe()\n",
    "desc"
   ]
  },
  {
   "cell_type": "markdown",
   "metadata": {},
   "source": [
    "Let's plot the statistics about all features:"
   ]
  },
  {
   "cell_type": "code",
   "execution_count": 56,
   "metadata": {},
   "outputs": [
    {
     "data": {
      "text/plain": [
       "Text(0.5, 1.0, 'Stand divs.')"
      ]
     },
     "execution_count": 56,
     "metadata": {},
     "output_type": "execute_result"
    },
    {
     "data": {
      "image/png": "[encoded data removed]",
      "text/plain": [
       "<Figure size 864x720 with 2 Axes>"
      ]
     },
     "metadata": {
      "needs_background": "light"
     },
     "output_type": "display_data"
    }
   ],
   "source": [
    "means = desc.loc['mean', :]\n",
    "stds = desc.loc['std', :]\n",
    "\n",
    "fig, axs = plt.subplots(2)\n",
    "axs[0].hist(means, bins=200)\n",
    "axs[0].set_title('Means')\n",
    "axs[1].hist(stds, bins=200)\n",
    "axs[1].set_title('Stand divs.')"
   ]
  },
  {
   "cell_type": "markdown",
   "metadata": {
    "id": "xWKB_CVZFLpB"
   },
   "source": [
    "### Examine the class label imbalance\n",
    "\n",
    "Let's look at the dataset imbalance:"
   ]
  },
  {
   "cell_type": "code",
   "execution_count": 41,
   "metadata": {
    "id": "HCJFrtuY2iLF"
   },
   "outputs": [
    {
     "name": "stdout",
     "output_type": "stream",
     "text": [
      "Samples:\n",
      "    Total: 4800\n",
      "       Class 0: 600 (12.50% of total)\n",
      "       Class 1: 3600 (75.00% of total)\n",
      "       Class 2: 600 (12.50% of total)\n"
     ]
    }
   ],
   "source": [
    "cls0, cls1, cls2 = np.bincount(raw_df['y'])\n",
    "total = cls0 + cls1 + cls2\n",
    "print('Samples:\\n    Total: {}\\n \\\n",
    "      Class 0: {} ({:.2f}% of total)\\n \\\n",
    "      Class 1: {} ({:.2f}% of total)\\n \\\n",
    "      Class 2: {} ({:.2f}% of total)'.format(total, cls0, 100*cls0/total, cls1, 100*cls1/total, cls2, 100*cls2/total))"
   ]
  },
  {
   "cell_type": "code",
   "execution_count": 47,
   "metadata": {},
   "outputs": [
    {
     "data": {
      "text/html": [
       "<div>\n",
       "<style scoped>\n",
       "    .dataframe tbody tr th:only-of-type {\n",
       "        vertical-align: middle;\n",
       "    }\n",
       "\n",
       "    .dataframe tbody tr th {\n",
       "        vertical-align: top;\n",
       "    }\n",
       "\n",
       "    .dataframe thead th {\n",
       "        text-align: right;\n",
       "    }\n",
       "</style>\n",
       "<table border=\"1\" class=\"dataframe\">\n",
       "  <thead>\n",
       "    <tr style=\"text-align: right;\">\n",
       "      <th></th>\n",
       "      <th>x0</th>\n",
       "      <th>x1</th>\n",
       "      <th>x2</th>\n",
       "      <th>x3</th>\n",
       "      <th>x4</th>\n",
       "      <th>x5</th>\n",
       "      <th>x6</th>\n",
       "      <th>x7</th>\n",
       "      <th>x8</th>\n",
       "      <th>x9</th>\n",
       "      <th>...</th>\n",
       "      <th>x990</th>\n",
       "      <th>x991</th>\n",
       "      <th>x992</th>\n",
       "      <th>x993</th>\n",
       "      <th>x994</th>\n",
       "      <th>x995</th>\n",
       "      <th>x996</th>\n",
       "      <th>x997</th>\n",
       "      <th>x998</th>\n",
       "      <th>x999</th>\n",
       "    </tr>\n",
       "  </thead>\n",
       "  <tbody>\n",
       "    <tr>\n",
       "      <th>count</th>\n",
       "      <td>3600.000000</td>\n",
       "      <td>3600.000000</td>\n",
       "      <td>3600.000000</td>\n",
       "      <td>3600.000000</td>\n",
       "      <td>3600.000000</td>\n",
       "      <td>3600.000000</td>\n",
       "      <td>3600.000000</td>\n",
       "      <td>3600.000000</td>\n",
       "      <td>3600.000000</td>\n",
       "      <td>3600.000000</td>\n",
       "      <td>...</td>\n",
       "      <td>3600.000000</td>\n",
       "      <td>3600.000000</td>\n",
       "      <td>3600.000000</td>\n",
       "      <td>3600.000000</td>\n",
       "      <td>3600.000000</td>\n",
       "      <td>3600.000000</td>\n",
       "      <td>3600.000000</td>\n",
       "      <td>3600.000000</td>\n",
       "      <td>3600.000000</td>\n",
       "      <td>3600.000000</td>\n",
       "    </tr>\n",
       "    <tr>\n",
       "      <th>mean</th>\n",
       "      <td>-0.526603</td>\n",
       "      <td>0.370680</td>\n",
       "      <td>1.231867</td>\n",
       "      <td>0.304272</td>\n",
       "      <td>0.356849</td>\n",
       "      <td>0.399517</td>\n",
       "      <td>0.321503</td>\n",
       "      <td>-0.324532</td>\n",
       "      <td>0.406335</td>\n",
       "      <td>-0.781700</td>\n",
       "      <td>...</td>\n",
       "      <td>0.868851</td>\n",
       "      <td>-0.578076</td>\n",
       "      <td>0.623741</td>\n",
       "      <td>-0.988952</td>\n",
       "      <td>0.688925</td>\n",
       "      <td>-0.897889</td>\n",
       "      <td>0.464186</td>\n",
       "      <td>0.387649</td>\n",
       "      <td>1.323684</td>\n",
       "      <td>1.127765</td>\n",
       "    </tr>\n",
       "    <tr>\n",
       "      <th>std</th>\n",
       "      <td>0.674590</td>\n",
       "      <td>0.782279</td>\n",
       "      <td>0.835823</td>\n",
       "      <td>0.851349</td>\n",
       "      <td>0.723261</td>\n",
       "      <td>0.666483</td>\n",
       "      <td>0.650588</td>\n",
       "      <td>0.778846</td>\n",
       "      <td>0.594452</td>\n",
       "      <td>0.602392</td>\n",
       "      <td>...</td>\n",
       "      <td>0.876593</td>\n",
       "      <td>0.714070</td>\n",
       "      <td>0.780369</td>\n",
       "      <td>0.964924</td>\n",
       "      <td>0.702516</td>\n",
       "      <td>0.718114</td>\n",
       "      <td>0.609545</td>\n",
       "      <td>0.595501</td>\n",
       "      <td>0.691186</td>\n",
       "      <td>0.898364</td>\n",
       "    </tr>\n",
       "    <tr>\n",
       "      <th>min</th>\n",
       "      <td>-3.026434</td>\n",
       "      <td>-2.177817</td>\n",
       "      <td>-0.993103</td>\n",
       "      <td>-2.469009</td>\n",
       "      <td>-1.992190</td>\n",
       "      <td>-2.229151</td>\n",
       "      <td>-1.503521</td>\n",
       "      <td>-3.842304</td>\n",
       "      <td>-2.046807</td>\n",
       "      <td>-3.980367</td>\n",
       "      <td>...</td>\n",
       "      <td>-1.351814</td>\n",
       "      <td>-3.587288</td>\n",
       "      <td>-1.488013</td>\n",
       "      <td>-4.932804</td>\n",
       "      <td>-1.456689</td>\n",
       "      <td>-3.720113</td>\n",
       "      <td>-1.571218</td>\n",
       "      <td>-2.076105</td>\n",
       "      <td>-0.491268</td>\n",
       "      <td>-1.861970</td>\n",
       "    </tr>\n",
       "    <tr>\n",
       "      <th>25%</th>\n",
       "      <td>-0.981870</td>\n",
       "      <td>-0.170477</td>\n",
       "      <td>0.590552</td>\n",
       "      <td>-0.378589</td>\n",
       "      <td>-0.143841</td>\n",
       "      <td>-0.012948</td>\n",
       "      <td>-0.127193</td>\n",
       "      <td>-0.865472</td>\n",
       "      <td>0.043864</td>\n",
       "      <td>-1.131507</td>\n",
       "      <td>...</td>\n",
       "      <td>0.184201</td>\n",
       "      <td>-1.003178</td>\n",
       "      <td>0.017671</td>\n",
       "      <td>-1.676078</td>\n",
       "      <td>0.188541</td>\n",
       "      <td>-1.370770</td>\n",
       "      <td>0.050548</td>\n",
       "      <td>0.016125</td>\n",
       "      <td>0.840938</td>\n",
       "      <td>0.429652</td>\n",
       "    </tr>\n",
       "    <tr>\n",
       "      <th>50%</th>\n",
       "      <td>-0.455470</td>\n",
       "      <td>0.239445</td>\n",
       "      <td>1.097984</td>\n",
       "      <td>0.275869</td>\n",
       "      <td>0.283138</td>\n",
       "      <td>0.374925</td>\n",
       "      <td>0.251568</td>\n",
       "      <td>-0.290694</td>\n",
       "      <td>0.395982</td>\n",
       "      <td>-0.729032</td>\n",
       "      <td>...</td>\n",
       "      <td>0.750036</td>\n",
       "      <td>-0.484665</td>\n",
       "      <td>0.558826</td>\n",
       "      <td>-0.948979</td>\n",
       "      <td>0.627507</td>\n",
       "      <td>-0.822240</td>\n",
       "      <td>0.418720</td>\n",
       "      <td>0.400556</td>\n",
       "      <td>1.223110</td>\n",
       "      <td>1.020277</td>\n",
       "    </tr>\n",
       "    <tr>\n",
       "      <th>75%</th>\n",
       "      <td>-0.012319</td>\n",
       "      <td>0.805148</td>\n",
       "      <td>1.794967</td>\n",
       "      <td>0.938278</td>\n",
       "      <td>0.758491</td>\n",
       "      <td>0.796119</td>\n",
       "      <td>0.732364</td>\n",
       "      <td>0.249748</td>\n",
       "      <td>0.759247</td>\n",
       "      <td>-0.361592</td>\n",
       "      <td>...</td>\n",
       "      <td>1.465125</td>\n",
       "      <td>-0.084447</td>\n",
       "      <td>1.170087</td>\n",
       "      <td>-0.231851</td>\n",
       "      <td>1.142182</td>\n",
       "      <td>-0.375583</td>\n",
       "      <td>0.809430</td>\n",
       "      <td>0.766213</td>\n",
       "      <td>1.738092</td>\n",
       "      <td>1.774704</td>\n",
       "    </tr>\n",
       "    <tr>\n",
       "      <th>max</th>\n",
       "      <td>1.476208</td>\n",
       "      <td>4.102255</td>\n",
       "      <td>4.946383</td>\n",
       "      <td>3.461174</td>\n",
       "      <td>3.682944</td>\n",
       "      <td>3.209605</td>\n",
       "      <td>3.303836</td>\n",
       "      <td>1.996396</td>\n",
       "      <td>3.131946</td>\n",
       "      <td>0.818628</td>\n",
       "      <td>...</td>\n",
       "      <td>5.333272</td>\n",
       "      <td>1.488579</td>\n",
       "      <td>3.701539</td>\n",
       "      <td>1.980672</td>\n",
       "      <td>3.393483</td>\n",
       "      <td>2.271806</td>\n",
       "      <td>3.589027</td>\n",
       "      <td>2.841595</td>\n",
       "      <td>5.489396</td>\n",
       "      <td>4.947546</td>\n",
       "    </tr>\n",
       "  </tbody>\n",
       "</table>\n",
       "<p>8 rows × 1000 columns</p>\n",
       "</div>"
      ],
      "text/plain": [
       "                x0           x1           x2           x3           x4  \\\n",
       "count  3600.000000  3600.000000  3600.000000  3600.000000  3600.000000   \n",
       "mean     -0.526603     0.370680     1.231867     0.304272     0.356849   \n",
       "std       0.674590     0.782279     0.835823     0.851349     0.723261   \n",
       "min      -3.026434    -2.177817    -0.993103    -2.469009    -1.992190   \n",
       "25%      -0.981870    -0.170477     0.590552    -0.378589    -0.143841   \n",
       "50%      -0.455470     0.239445     1.097984     0.275869     0.283138   \n",
       "75%      -0.012319     0.805148     1.794967     0.938278     0.758491   \n",
       "max       1.476208     4.102255     4.946383     3.461174     3.682944   \n",
       "\n",
       "                x5           x6           x7           x8           x9  ...  \\\n",
       "count  3600.000000  3600.000000  3600.000000  3600.000000  3600.000000  ...   \n",
       "mean      0.399517     0.321503    -0.324532     0.406335    -0.781700  ...   \n",
       "std       0.666483     0.650588     0.778846     0.594452     0.602392  ...   \n",
       "min      -2.229151    -1.503521    -3.842304    -2.046807    -3.980367  ...   \n",
       "25%      -0.012948    -0.127193    -0.865472     0.043864    -1.131507  ...   \n",
       "50%       0.374925     0.251568    -0.290694     0.395982    -0.729032  ...   \n",
       "75%       0.796119     0.732364     0.249748     0.759247    -0.361592  ...   \n",
       "max       3.209605     3.303836     1.996396     3.131946     0.818628  ...   \n",
       "\n",
       "              x990         x991         x992         x993         x994  \\\n",
       "count  3600.000000  3600.000000  3600.000000  3600.000000  3600.000000   \n",
       "mean      0.868851    -0.578076     0.623741    -0.988952     0.688925   \n",
       "std       0.876593     0.714070     0.780369     0.964924     0.702516   \n",
       "min      -1.351814    -3.587288    -1.488013    -4.932804    -1.456689   \n",
       "25%       0.184201    -1.003178     0.017671    -1.676078     0.188541   \n",
       "50%       0.750036    -0.484665     0.558826    -0.948979     0.627507   \n",
       "75%       1.465125    -0.084447     1.170087    -0.231851     1.142182   \n",
       "max       5.333272     1.488579     3.701539     1.980672     3.393483   \n",
       "\n",
       "              x995         x996         x997         x998         x999  \n",
       "count  3600.000000  3600.000000  3600.000000  3600.000000  3600.000000  \n",
       "mean     -0.897889     0.464186     0.387649     1.323684     1.127765  \n",
       "std       0.718114     0.609545     0.595501     0.691186     0.898364  \n",
       "min      -3.720113    -1.571218    -2.076105    -0.491268    -1.861970  \n",
       "25%      -1.370770     0.050548     0.016125     0.840938     0.429652  \n",
       "50%      -0.822240     0.418720     0.400556     1.223110     1.020277  \n",
       "75%      -0.375583     0.809430     0.766213     1.738092     1.774704  \n",
       "max       2.271806     3.589027     2.841595     5.489396     4.947546  \n",
       "\n",
       "[8 rows x 1000 columns]"
      ]
     },
     "execution_count": 47,
     "metadata": {},
     "output_type": "execute_result"
    }
   ],
   "source": [
    "stat_df = raw_df.copy()\n",
    "\n",
    "# get labels\n",
    "labels = np.array(stat_df['y'])\n",
    "\n",
    "# get boolean arrays to split classes\n",
    "cls0_bool = labels == 0\n",
    "cls1_bool = labels == 1\n",
    "cls2_bool = labels == 2\n",
    "\n",
    "# split classes\n",
    "cls0_df = stat_df[cls0_bool]\n",
    "cls1_df = stat_df[cls1_bool]\n",
    "cls2_df = stat_df[cls2_bool]\n",
    "\n",
    "# get statistics from the different classes\n",
    "desc_cls0 = cls0_df[cls0_df.drop(['y'], axis=1).columns.tolist()].describe()\n",
    "desc_cls1 = cls1_df[cls1_df.drop(['y'], axis=1).columns.tolist()].describe()\n",
    "desc_cls2 = cls2_df[cls2_df.drop(['y'], axis=1).columns.tolist()].describe()"
   ]
  },
  {
   "cell_type": "markdown",
   "metadata": {},
   "source": [
    "Let's plot the statistics about the features from the different classes:"
   ]
  },
  {
   "cell_type": "code",
   "execution_count": 54,
   "metadata": {},
   "outputs": [
    {
     "data": {
      "image/png": "[encoded data removed]",
      "text/plain": [
       "<Figure size 864x720 with 12 Axes>"
      ]
     },
     "metadata": {
      "needs_background": "light"
     },
     "output_type": "display_data"
    }
   ],
   "source": [
    "mean0, mean1, mean2 = desc_cls0.loc['mean', :], desc_cls1.loc['mean', :], desc_cls2.loc['mean', :]\n",
    "std0, std1, std2 = desc_cls0.loc['std', :], desc_cls1.loc['std', :], desc_cls2.loc['std', :]\n",
    "max0, max1, max2 = desc_cls0.loc['max', :], desc_cls1.loc['max', :], desc_cls2.loc['max', :]\n",
    "min0, min1, min2 = desc_cls0.loc['min', :], desc_cls1.loc['min', :], desc_cls2.loc['min', :]\n",
    "\n",
    "fig, axs = plt.subplots(ncols=3, nrows=4)\n",
    "axs[0][0].hist(mean0, bins=100, color='c')\n",
    "axs[0][0].set_title('Mean class 0')\n",
    "axs[0][1].hist(mean1, bins=100, color='m')\n",
    "axs[0][1].set_title('Mean class 1')\n",
    "axs[0][2].hist(mean2, bins=100, color='y')\n",
    "axs[0][2].set_title('Mean class 2')\n",
    "\n",
    "axs[1][0].hist(std0, bins=100, color='c')\n",
    "axs[1][0].set_title('Std class 0')\n",
    "axs[1][1].hist(std1, bins=100, color='m')\n",
    "axs[1][1].set_title('Std class 1')\n",
    "axs[1][2].hist(std2, bins=100, color='y')\n",
    "axs[1][2].set_title('Std class 2')\n",
    "\n",
    "axs[2][0].hist(max0, bins=100, color='c')\n",
    "axs[2][0].set_title('Max class 0')\n",
    "axs[2][1].hist(max1, bins=100, color='m')\n",
    "axs[2][1].set_title('Max class 1')\n",
    "axs[2][2].hist(max2, bins=100, color='y')\n",
    "axs[2][2].set_title('Max class 2')\n",
    "\n",
    "axs[3][0].hist(min0, bins=100, color='c')\n",
    "axs[3][0].set_title('Min class 0')\n",
    "axs[3][1].hist(min1, bins=100, color='m')\n",
    "axs[3][1].set_title('Min class 1')\n",
    "axs[3][2].hist(min2, bins=100, color='y')\n",
    "axs[3][2].set_title('Min class 2')\n",
    "\n",
    "fig.tight_layout(pad=1.0)"
   ]
  },
  {
   "cell_type": "markdown",
   "metadata": {
    "id": "6qox6ryyzwdr"
   },
   "source": [
    "### Clean, split and normalize the data\n",
    "\n",
    "The raw data has no apperent issues. It looks like we don't have any cleaning to do."
   ]
  },
  {
   "cell_type": "code",
   "execution_count": null,
   "metadata": {
    "id": "Ef42jTuxEjnj"
   },
   "outputs": [],
   "source": [
    "cleaned_df = raw_df.copy()"
   ]
  },
  {
   "cell_type": "markdown",
   "metadata": {
    "id": "uSNgdQFFFQ6u"
   },
   "source": [
    "Split the dataset into train, validation, and test sets. The validation set is used during the model fitting to evaluate the loss and any metrics, however the model is not fit with this data. The test set is completely unused during the training phase and is only used at the end to evaluate how well the model generalizes to new data. This is especially important with imbalanced datasets where [overfitting](https://developers.google.com/machine-learning/crash-course/generalization/peril-of-overfitting) is a significant concern from the lack of training data."
   ]
  },
  {
   "cell_type": "code",
   "execution_count": null,
   "metadata": {
    "id": "xfxhKg7Yr1-b"
   },
   "outputs": [],
   "source": [
    "all_labels = np.array(cleaned_df.loc[:, 'y'])\n",
    "\n",
    "# Use a utility from sklearn to split and shuffle our dataset.\n",
    "train_df, test_df = train_test_split(cleaned_df, stratify=all_labels, test_size=0.15)\n",
    "train_labels = np.array(train_df.loc[:, 'y'])\n",
    "train_df, val_df = train_test_split(train_df, stratify=train_labels, test_size=0.15)\n",
    "\n",
    "# Form np arrays of labels and features.\n",
    "train_labels = np.array(train_df.pop('y'))\n",
    "val_labels = np.array(val_df.pop('y'))\n",
    "test_labels = np.array(test_df.pop('y'))\n",
    "\n",
    "# get features\n",
    "train_features = np.array(train_df)\n",
    "val_features = np.array(val_df)\n",
    "test_features = np.array(test_df)\n",
    "\n",
    "# form boolean arrays for plotting\n",
    "cls0_bool = train_labels == 0\n",
    "cls1_bool = train_labels == 1\n",
    "cls2_bool = train_labels == 2\n",
    "\n",
    "# one-hot encode labels for multiclass model\n",
    "train_labels = tf.keras.utils.to_categorical(train_labels, num_classes=3, dtype='int')\n",
    "val_labels = tf.keras.utils.to_categorical(val_labels, num_classes=3, dtype='int')\n",
    "test_labels = tf.keras.utils.to_categorical(test_labels, num_classes=3, dtype='int')"
   ]
  },
  {
   "cell_type": "markdown",
   "metadata": {
    "id": "8a_Z_kBmr7Oh"
   },
   "source": [
    "Normalize the input features using the sklearn StandardScaler.\n",
    "This will set the mean to 0 and standard deviation to 1.\n",
    "\n",
    "Note: The `StandardScaler` is only fit using the `train_features` to be sure the model is not peeking at the validation or test sets. "
   ]
  },
  {
   "cell_type": "code",
   "execution_count": null,
   "metadata": {
    "id": "IO-qEUmJ5JQg"
   },
   "outputs": [],
   "source": [
    "#scaler = MinMaxScaler(feature_range=(-1, 1))\n",
    "scaler = StandardScaler()\n",
    "train_features = scaler.fit_transform(train_features)\n",
    "\n",
    "val_features = scaler.transform(val_features)\n",
    "test_features = scaler.transform(test_features)\n",
    "\n",
    "#train_features = np.clip(train_features, -5, 5)\n",
    "#val_features = np.clip(val_features, -5, 5)\n",
    "#test_features = np.clip(test_features, -5, 5)\n",
    "\n",
    "print('Training labels shape:', train_labels.shape)\n",
    "print('Validation labels shape:', val_labels.shape)\n",
    "print('Test labels shape:', test_labels.shape)\n",
    "\n",
    "print('Training features shape:', train_features.shape)\n",
    "print('Validation features shape:', val_features.shape)\n",
    "print('Test features shape:', test_features.shape)"
   ]
  },
  {
   "cell_type": "markdown",
   "metadata": {
    "id": "XF2nNfWKJ33w"
   },
   "source": [
    "Caution: If you want to deploy a model, it's critical that you preserve the preprocessing calculations. The easiest way to implement them as layers, and attach them to your model before export.\n"
   ]
  },
  {
   "cell_type": "markdown",
   "metadata": {
    "id": "uQ7m9nqDC3W6"
   },
   "source": [
    "### Look at the data distribution\n",
    "\n",
    "Next compare the distributions of the classes over a few features. Good questions to ask yourself at this point are:\n",
    "\n",
    "* Do these distributions make sense? \n",
    "    * Yes. You've normalized the input and these are mostly concentrated in the `+/- 2` range.\n",
    "* Can you see the difference between the distributions?\n",
    "    * Yes the bigger class contains a much higher rate of extreme values."
   ]
  },
  {
   "cell_type": "code",
   "execution_count": null,
   "metadata": {},
   "outputs": [],
   "source": [
    "cls0_df = pd.DataFrame(train_features[cls0_bool], columns = train_df.columns)\n",
    "cls1_df = pd.DataFrame(train_features[cls1_bool], columns = train_df.columns)\n",
    "cls2_df = pd.DataFrame(train_features[cls2_bool], columns = train_df.columns)\n",
    "\n",
    "fig, axs = plt.subplots(3)\n",
    "axs[0].scatter(cls0_df['x11'], cls0_df['x101'])\n",
    "axs[0].set_title('Class 0')\n",
    "axs[1].scatter(cls1_df['x11'], cls1_df['x101'])\n",
    "axs[1].set_title('Class 1')\n",
    "axs[2].scatter(cls2_df['x11'], cls2_df['x101'])\n",
    "axs[2].set_title('Class 2')\n",
    "\n",
    "for ax in axs.flat:\n",
    "    ax.set(xlabel='x11', ylabel='x101')\n",
    "    \n",
    "# Hide x labels and tick labels for top plots and y ticks for right plots.\n",
    "for ax in axs.flat:\n",
    "    ax.label_outer()"
   ]
  },
  {
   "cell_type": "markdown",
   "metadata": {
    "id": "qFK1u4JX16D8"
   },
   "source": [
    "## Define the model and metrics\n",
    "\n",
    "Define a function that creates a simple neural network with a densly connected hidden layer, a [dropout](https://developers.google.com/machine-learning/glossary/#dropout_regularization) layer to reduce overfitting, and an output softmax layer (\"[This is to ensure the output values are in the range of 0 and 1 and may be used as predicted probabilities.](https://machinelearningmastery.com/multi-class-classification-tutorial-keras-deep-learning-library/)\")"
   ]
  },
  {
   "cell_type": "code",
   "execution_count": null,
   "metadata": {
    "id": "3JQDzUqT3UYG"
   },
   "outputs": [],
   "source": [
    "METRICS = [\n",
    "    keras.metrics.TruePositives(name='tp'),\n",
    "    keras.metrics.FalsePositives(name='fp'),\n",
    "    keras.metrics.TrueNegatives(name='tn'),\n",
    "    keras.metrics.FalseNegatives(name='fn'), \n",
    "    keras.metrics.BinaryAccuracy(name='accuracy'),\n",
    "    keras.metrics.Precision(name='precision'),\n",
    "    keras.metrics.Recall(name='recall'),\n",
    "    keras.metrics.AUC(name='auc'),\n",
    "    keras.metrics.CategoricalAccuracy(name=\"categorical_accuracy\", dtype=None)\n",
    "]\n",
    "\n",
    "def make_model(metrics = METRICS, output_bias=None):\n",
    "    if output_bias is not None:\n",
    "        output_bias = tf.keras.initializers.Constant(output_bias)\n",
    "    model = keras.Sequential([\n",
    "          keras.layers.Dense(\n",
    "              16, activation='relu',\n",
    "              input_shape=(train_features.shape[-1],)),\n",
    "          keras.layers.Dropout(0.5),\n",
    "          keras.layers.Dense(3, activation='softmax')])\n",
    "    model.compile(\n",
    "        optimizer=keras.optimizers.Adam(lr=1e-3),\n",
    "        loss=keras.losses.CategoricalCrossentropy(),\n",
    "        metrics=metrics,\n",
    "        weighted_metrics=['categorical_accuracy'])\n",
    "    return model"
   ]
  },
  {
   "cell_type": "markdown",
   "metadata": {
    "id": "SU0GX6E6mieP"
   },
   "source": [
    "### Understanding useful metrics\n",
    "\n",
    "Notice that there are a few metrics defined above that can be computed by the model that will be helpful when evaluating the performance.\n",
    "\n",
    "\n",
    "\n",
    "*   **False** negatives and **false** positives are samples that were **incorrectly** classified\n",
    "*   **True** negatives and **true** positives are samples that were **correctly** classified\n",
    "*   **Accuracy** is the percentage of examples correctly classified\n",
    ">   $\\frac{\\text{true samples}}{\\text{total samples}}$\n",
    "*   **Precision** is the percentage of **predicted** positives that were correctly classified\n",
    ">   $\\frac{\\text{true positives}}{\\text{true positives + false positives}}$\n",
    "*   **Recall** is the percentage of **actual** positives that were correctly classified\n",
    ">   $\\frac{\\text{true positives}}{\\text{true positives + false negatives}}$\n",
    "*   **AUC** refers to the Area Under the Curve of a Receiver Operating Characteristic curve (ROC-AUC). This metric is equal to the probability that a classifier will rank a random positive sample higher than a random negative sample.\n",
    "\n",
    "Note: Accuracy is not a helpful metric for this task. You can 99.8%+ accuracy on this task by predicting False all the time.  \n",
    "\n",
    "Read more:\n",
    "*  [True vs. False and Positive vs. Negative](https://developers.google.com/machine-learning/crash-course/classification/true-false-positive-negative)\n",
    "*  [Accuracy](https://developers.google.com/machine-learning/crash-course/classification/accuracy)\n",
    "*   [Precision and Recall](https://developers.google.com/machine-learning/crash-course/classification/precision-and-recall)\n",
    "*   [ROC-AUC](https://developers.google.com/machine-learning/crash-course/classification/roc-and-auc)"
   ]
  },
  {
   "cell_type": "markdown",
   "metadata": {
    "id": "FYdhSAoaF_TK"
   },
   "source": [
    "## Baseline model"
   ]
  },
  {
   "cell_type": "markdown",
   "metadata": {
    "id": "IDbltVPg2m2q"
   },
   "source": [
    "### Build the model\n",
    "\n",
    "Now create and train your model using the function that was defined earlier. Notice that the model is fit using a larger than default batch size of 2048, this is important to ensure that each batch has a decent chance of containing a few positive samples. If the batch size was too small, they would likely have no fraudulent transactions to learn from.\n",
    "\n",
    "\n",
    "Note: this model will not handle the class imbalance well. You will improve it later in this tutorial."
   ]
  },
  {
   "cell_type": "code",
   "execution_count": null,
   "metadata": {
    "id": "ouUkwPcGQsy3"
   },
   "outputs": [],
   "source": [
    "EPOCHS = 200\n",
    "BATCH_SIZE = 256\n",
    "\n",
    "early_stopping = tf.keras.callbacks.EarlyStopping(\n",
    "    monitor='val_auc', \n",
    "    verbose=1,\n",
    "    patience=10,\n",
    "    mode='max',\n",
    "    restore_best_weights=True)"
   ]
  },
  {
   "cell_type": "code",
   "execution_count": null,
   "metadata": {
    "id": "1xlR_dekzw7C"
   },
   "outputs": [],
   "source": [
    "model = make_model()\n",
    "model.summary()"
   ]
  },
  {
   "cell_type": "markdown",
   "metadata": {
    "id": "Wx7ND3_SqckO"
   },
   "source": [
    "Test run the model:"
   ]
  },
  {
   "cell_type": "code",
   "execution_count": null,
   "metadata": {
    "id": "LopSd-yQqO3a"
   },
   "outputs": [],
   "source": [
    "model.predict(train_features[:10])"
   ]
  },
  {
   "cell_type": "markdown",
   "metadata": {
    "id": "YKIgWqHms_03"
   },
   "source": [
    "### Optional: Set the correct initial bias."
   ]
  },
  {
   "cell_type": "markdown",
   "metadata": {},
   "source": [
    "### Multiclass classification\n",
    "These initial guesses are not great. You know the dataset is imbalanced. Set the output layer's bias to reflect that  [See: setting bias for multiclass classification python tensorflow keras](https://stackoverflow.com/questions/60307239/setting-bias-for-multiclass-classification-python-tensorflow-keras).  This can help with initial convergence."
   ]
  },
  {
   "cell_type": "markdown",
   "metadata": {},
   "source": [
    "With the frequencies of the three classes as $ f_1 $, $ f_2 $, $ f_3 $ and the biases as $ b_1 $, $ b_2 $, $ b_3 $:\n",
    "$$ f_1 = e^{b_1} / (e^{b_1} + e^{b_2} + e^{b_3}) $$\n",
    "$$ f_2 = e^{b_2} / (e^{b_1} + e^{b_2} + e^{b_3}) $$\n",
    "$$ f_3 = e^{b_3} / (e^{b_1} + e^{b_2} + e^{b_3}) $$\n",
    "\n",
    "Setting $ (e^b_1 + e^b_2 + e^b_3) $ as $ x $:\n",
    "$$ e^{b_1} / x = f_1 $$\n",
    "$$ e^{b_2} / x = f_2 $$\n",
    "$$ e^{b_3} / x = f_3 $$\n",
    "\n",
    "In our case:\n",
    "$$ e^{b_1} / x = 0.125 $$\n",
    "$$ e^{b_2} / x = 0.75 $$\n",
    "$$ e^{b_3} / x = 0.125 $$\n",
    "\n",
    "That means:\n",
    "$$ e^{b_1} = 0.125 * x $$\n",
    "$$ e^{b_2} = 0.75 * x $$\n",
    "$$ e^{b_3} = 0.125 * x $$\n",
    "\n",
    "Setting $ x = 1 $:\n",
    "$$ log_e(b_1) = 0.125 $$\n",
    "$$ log_e(b_2) = 0.75 $$\n",
    "$$ log_e(b_3) = 0.125 $$\n",
    "\n",
    "And finally solving for $b$ to get our initial biases:\n",
    "$$ b_1 = log_e(0.125) \\approx -2.08 $$\n",
    "$$ b_2 = log_e(0.75) \\approx -0.29 $$\n",
    "$$ b_3 = log_e(0.125) \\approx -2.08 $$"
   ]
  },
  {
   "cell_type": "code",
   "execution_count": null,
   "metadata": {},
   "outputs": [],
   "source": [
    "initial_bias0 = -2.08\n",
    "initial_bias1 = -0.29\n",
    "initial_bias2 = -2.08\n",
    "initial_bias = np.array([initial_bias0, initial_bias1, initial_bias2])\n",
    "initial_bias"
   ]
  },
  {
   "cell_type": "code",
   "execution_count": null,
   "metadata": {
    "id": "50oyu1uss0i-"
   },
   "outputs": [],
   "source": [
    "model = make_model(output_bias = initial_bias)\n",
    "model.predict(train_features[:10])"
   ]
  },
  {
   "cell_type": "markdown",
   "metadata": {
    "id": "0EJj9ixKVBMT"
   },
   "source": [
    "### Checkpoint the initial weights\n",
    "\n",
    "To make the various training runs more comparable, keep this initial model's weights in a checkpoint file, and load them into each model before training."
   ]
  },
  {
   "cell_type": "code",
   "execution_count": null,
   "metadata": {
    "id": "_tSUm4yAVIif"
   },
   "outputs": [],
   "source": [
    "initial_weights = os.path.join(tempfile.mkdtemp(), 'initial_weights')\n",
    "model.save_weights(initial_weights)"
   ]
  },
  {
   "cell_type": "markdown",
   "metadata": {
    "id": "EVXiLyqyZ8AX"
   },
   "source": [
    "### Confirm that the bias fix helps\n",
    "\n",
    "Before moving on, confirm quick that the careful bias initialization actually helped.\n",
    "\n",
    "Train the model for 20 epochs, with and without this careful initialization, and compare the losses: "
   ]
  },
  {
   "cell_type": "code",
   "execution_count": null,
   "metadata": {
    "id": "Dm4-4K5RZ63Q"
   },
   "outputs": [],
   "source": [
    "model = make_model()\n",
    "model.load_weights(initial_weights)\n",
    "model.layers[-1].bias.assign([0.0, 0.0, 0.0])\n",
    "zero_bias_history = model.fit(\n",
    "    train_features,\n",
    "    train_labels,\n",
    "    batch_size=BATCH_SIZE,\n",
    "    epochs=20,\n",
    "    validation_data=(val_features, val_labels), \n",
    "    verbose=0)"
   ]
  },
  {
   "cell_type": "code",
   "execution_count": null,
   "metadata": {
    "id": "j8DsLXHQaSql"
   },
   "outputs": [],
   "source": [
    "model = make_model(output_bias = initial_bias)\n",
    "model.load_weights(initial_weights)\n",
    "careful_bias_history = model.fit(\n",
    "    train_features,\n",
    "    train_labels,\n",
    "    batch_size=BATCH_SIZE,\n",
    "    epochs=20,\n",
    "    validation_data=(val_features, val_labels), \n",
    "    verbose=0)"
   ]
  },
  {
   "cell_type": "code",
   "execution_count": null,
   "metadata": {
    "id": "E3XsMBjhauFV"
   },
   "outputs": [],
   "source": [
    "def plot_loss(history, label, n):\n",
    "    # Use a log scale to show the wide range of values.\n",
    "    plt.semilogy(history.epoch,  history.history['loss'],\n",
    "                   color=colors[n], label='Train '+label)\n",
    "    plt.semilogy(history.epoch,  history.history['val_loss'],\n",
    "                color=colors[n], label='Val '+label,\n",
    "                linestyle=\"--\")\n",
    "    plt.xlabel('Epoch')\n",
    "    plt.ylabel('Loss')\n",
    "    plt.legend()"
   ]
  },
  {
   "cell_type": "code",
   "execution_count": null,
   "metadata": {
    "id": "dxFaskm7beC7"
   },
   "outputs": [],
   "source": [
    "plot_loss(zero_bias_history, \"Zero Bias\", 0)\n",
    "plot_loss(careful_bias_history, \"Careful Bias\", 1)"
   ]
  },
  {
   "cell_type": "markdown",
   "metadata": {
    "id": "fKMioV0ddG3R"
   },
   "source": [
    "The above figure makes it clear: In terms of validation loss, on this problem, this careful initialization gives a clear advantage. "
   ]
  },
  {
   "cell_type": "markdown",
   "metadata": {
    "id": "RsA_7SEntRaV"
   },
   "source": [
    "### Train the model"
   ]
  },
  {
   "cell_type": "code",
   "execution_count": null,
   "metadata": {
    "id": "yZKAc8NCDnoR"
   },
   "outputs": [],
   "source": [
    "model = make_model()\n",
    "model.load_weights(initial_weights)\n",
    "baseline_history = model.fit(\n",
    "    train_features,\n",
    "    train_labels,\n",
    "    batch_size=BATCH_SIZE,\n",
    "    epochs=EPOCHS,\n",
    "    callbacks = [early_stopping],\n",
    "    validation_data=(val_features, val_labels),\n",
    "    verbose=0)"
   ]
  },
  {
   "cell_type": "markdown",
   "metadata": {
    "id": "iSaDBYU9xtP6"
   },
   "source": [
    "### Check training history\n",
    "In this section, you will produce plots of your model's accuracy and loss on the training and validation set. These are useful to check for overfitting, which you can learn more about in this [tutorial](https://www.tensorflow.org/tutorials/keras/overfit_and_underfit).\n",
    "\n",
    "Additionally, you can produce these plots for any of the metrics you created above. False negatives are included as an example."
   ]
  },
  {
   "cell_type": "code",
   "execution_count": null,
   "metadata": {
    "id": "WTSkhT1jyGu6"
   },
   "outputs": [],
   "source": [
    "def plot_metrics(history):\n",
    "    metrics =  ['loss', 'auc', 'precision', 'recall']\n",
    "    for n, metric in enumerate(metrics):\n",
    "        name = metric.replace(\"_\",\" \").capitalize()\n",
    "        plt.subplot(2,2,n+1)\n",
    "        plt.plot(history.epoch,  history.history[metric], color=colors[0], label='Train')\n",
    "        plt.plot(history.epoch, history.history['val_'+metric],\n",
    "                 color=colors[0], linestyle=\"--\", label='Val')\n",
    "        plt.xlabel('Epoch')\n",
    "        plt.ylabel(name)\n",
    "        if metric == 'loss':\n",
    "            plt.ylim([0, plt.ylim()[1]])\n",
    "        elif metric == 'auc':\n",
    "            plt.ylim([0.8,1])\n",
    "        else:\n",
    "            plt.ylim([0,1])\n",
    "        plt.legend()\n"
   ]
  },
  {
   "cell_type": "code",
   "execution_count": null,
   "metadata": {
    "id": "u6LReDsqlZlk"
   },
   "outputs": [],
   "source": [
    "plot_metrics(baseline_history)"
   ]
  },
  {
   "cell_type": "markdown",
   "metadata": {
    "id": "UCa4iWo6WDKR"
   },
   "source": [
    "Note: That the validation curve generally performs better than the training curve. This is mainly caused by the fact that the dropout layer is not active when evaluating the model."
   ]
  },
  {
   "cell_type": "markdown",
   "metadata": {
    "id": "aJC1booryouo"
   },
   "source": [
    "### Evaluate metrics\n",
    "\n",
    "You can use a [confusion matrix](https://developers.google.com/machine-learning/glossary/#confusion_matrix) to summarize the actual vs. predicted labels where the X axis is the predicted label and the Y axis is the actual label."
   ]
  },
  {
   "cell_type": "code",
   "execution_count": null,
   "metadata": {
    "id": "aNS796IJKrev"
   },
   "outputs": [],
   "source": [
    "train_predictions_baseline = model.predict(train_features, batch_size=BATCH_SIZE)\n",
    "test_predictions_baseline = model.predict(test_features, batch_size=BATCH_SIZE)"
   ]
  },
  {
   "cell_type": "code",
   "execution_count": null,
   "metadata": {
    "id": "MVWBGfADwbWI"
   },
   "outputs": [],
   "source": [
    "def plot_cm(labels, predictions, p=0.5):\n",
    "    cm = confusion_matrix(labels.argmax(axis=1), predictions.argmax(axis=1))\n",
    "    plt.figure(figsize=(5,5))\n",
    "    sns.heatmap(cm, annot=True, fmt=\"d\")\n",
    "    plt.title('Confusion matrix @{:.2f}'.format(p))\n",
    "    plt.ylabel('Actual label')\n",
    "    plt.xlabel('Predicted label')\n",
    "    \n",
    "    print('')\n",
    "    print('Class 0:')\n",
    "    print('True predictions = ', cm[0][0])\n",
    "    print('False positives = ', cm[1][0] + cm[2][0])\n",
    "    print('False negatives = ', cm[0][1] + cm[0][2])\n",
    "    print('')\n",
    "    print('Class 1:')\n",
    "    print('True predictions = ', cm[1][1])\n",
    "    print('False positives = ', cm[0][1] + cm[2][1])\n",
    "    print('False negatives = ', cm[1][0] + cm[1][2])\n",
    "    print('')\n",
    "    print('Class 2:')\n",
    "    print('True predictions = ', cm[2][2])\n",
    "    print('False positives = ', cm[0][2] + cm[1][2])\n",
    "    print('False negatives = ', cm[2][0] + cm[2][1])\n",
    "\n",
    "    print(np.sum(cm[1]))"
   ]
  },
  {
   "cell_type": "markdown",
   "metadata": {
    "id": "nOTjD5Z5Wp1U"
   },
   "source": [
    "Evaluate your model on the test dataset and display the results for the metrics you created above."
   ]
  },
  {
   "cell_type": "code",
   "execution_count": null,
   "metadata": {
    "id": "poh_hZngt2_9"
   },
   "outputs": [],
   "source": [
    "baseline_results = model.evaluate(test_features, test_labels,\n",
    "                                  batch_size=BATCH_SIZE, verbose=0)\n",
    "for name, value in zip(model.metrics_names, baseline_results):\n",
    "    print(name, ': ', value)\n",
    "\n",
    "plot_cm(test_labels, test_predictions_baseline)"
   ]
  },
  {
   "cell_type": "markdown",
   "metadata": {},
   "source": [
    "### Calculate BMAC"
   ]
  },
  {
   "cell_type": "code",
   "execution_count": null,
   "metadata": {},
   "outputs": [],
   "source": [
    "prediction = np.argmax(test_predictions_baseline, -1)\n",
    "unhotted_test_labs = np.argmax(test_labels, -1)\n",
    "BMAC = balanced_accuracy_score(unhotted_test_labs, prediction)\n",
    "print('BMAC: %.3f' % BMAC)"
   ]
  },
  {
   "cell_type": "markdown",
   "metadata": {
    "id": "PyZtSr1v6L4t"
   },
   "source": [
    "If the model had predicted everything perfectly, this would be a [diagonal matrix](https://en.wikipedia.org/wiki/Diagonal_matrix) where values off the main diagonal, indicating incorrect predictions, would be zero. In this case the matrix shows that you have relatively few false positives. However, you would likely want to have even fewer false negatives despite the cost of increasing the number of false positives. This trade off may be preferable.."
   ]
  },
  {
   "cell_type": "markdown",
   "metadata": {
    "id": "cveQoiMyGQCo"
   },
   "source": [
    "## Class weights"
   ]
  },
  {
   "cell_type": "markdown",
   "metadata": {
    "id": "ePGp6GUE1WfH"
   },
   "source": [
    "### Calculate class weights\n",
    "\n",
    "Passing Keras weights for each class through a parameter. These will cause the model to \"pay more attention\" to examples from an under-represented class."
   ]
  },
  {
   "cell_type": "code",
   "execution_count": null,
   "metadata": {
    "id": "qjGWErngGny7"
   },
   "outputs": [],
   "source": [
    "# Scaling by total/2 helps keep the loss to a similar magnitude.\n",
    "# The sum of the weights of all examples stays the same.\n",
    "weight_for_0 = (1 / cls0)*(total)/3.0 \n",
    "weight_for_1 = (1 / cls1)*(total)/3.0\n",
    "weight_for_2 = (1 / cls2)*(total)/3.0\n",
    "\n",
    "class_weight = {0: weight_for_0, 1: weight_for_1, 2: weight_for_2}\n",
    "\n",
    "print('Weight for class 0: {:.2f}'.format(weight_for_0))\n",
    "print('Weight for class 1: {:.2f}'.format(weight_for_1))\n",
    "print('Weight for class 2: {:.2f}'.format(weight_for_2))"
   ]
  },
  {
   "cell_type": "markdown",
   "metadata": {
    "id": "Mk1OOE2ZSHzy"
   },
   "source": [
    "### Train a model with class weights\n",
    "\n",
    "Now try re-training and evaluating the model with class weights to see how that affects the predictions.\n",
    "\n",
    "Note: Using `class_weights` changes the range of the loss. This may affect the stability of the training depending on the optimizer. Optimizers whose step size is dependent on the magnitude of the gradient, like `optimizers.SGD`, may fail. The optimizer used here, `optimizers.Adam`, is unaffected by the scaling change. Also note that because of the weighting, the total losses are not comparable between the two models."
   ]
  },
  {
   "cell_type": "code",
   "execution_count": null,
   "metadata": {
    "id": "UJ589fn8ST3x"
   },
   "outputs": [],
   "source": [
    "weighted_model = make_model()\n",
    "weighted_model.load_weights(initial_weights)\n",
    "weighted_history = weighted_model.fit(\n",
    "    train_features,\n",
    "    train_labels,\n",
    "    batch_size=BATCH_SIZE,\n",
    "    epochs=EPOCHS,\n",
    "    callbacks = [early_stopping],\n",
    "    validation_data=(val_features, val_labels),\n",
    "    verbose=0,\n",
    "    # The class weights go here\n",
    "    class_weight=class_weight) "
   ]
  },
  {
   "cell_type": "markdown",
   "metadata": {
    "id": "R0ynYRO0G3Lx"
   },
   "source": [
    "### Check training history"
   ]
  },
  {
   "cell_type": "code",
   "execution_count": null,
   "metadata": {
    "id": "BBe9FMO5ucTC"
   },
   "outputs": [],
   "source": [
    "plot_metrics(weighted_history)"
   ]
  },
  {
   "cell_type": "markdown",
   "metadata": {
    "id": "REy6WClTZIwQ"
   },
   "source": [
    "### Evaluate metrics"
   ]
  },
  {
   "cell_type": "code",
   "execution_count": null,
   "metadata": {
    "id": "nifqscPGw-5w"
   },
   "outputs": [],
   "source": [
    "train_predictions_weighted = weighted_model.predict(train_features, batch_size=BATCH_SIZE)\n",
    "test_predictions_weighted = weighted_model.predict(test_features, batch_size=BATCH_SIZE)"
   ]
  },
  {
   "cell_type": "code",
   "execution_count": null,
   "metadata": {
    "id": "owKL2vdMBJr6"
   },
   "outputs": [],
   "source": [
    "weighted_results = weighted_model.evaluate(test_features, test_labels,\n",
    "                                           batch_size=BATCH_SIZE, verbose=0)\n",
    "for name, value in zip(weighted_model.metrics_names, weighted_results):\n",
    "    print(name, ': ', value)\n",
    "print()\n",
    "\n",
    "plot_cm(test_labels, test_predictions_weighted)"
   ]
  },
  {
   "cell_type": "markdown",
   "metadata": {},
   "source": [
    "### Calculate BMAC"
   ]
  },
  {
   "cell_type": "code",
   "execution_count": null,
   "metadata": {},
   "outputs": [],
   "source": [
    "prediction = np.argmax(test_predictions_weighted, -1)\n",
    "unhotted_test_labs = np.argmax(test_labels, -1)\n",
    "BMAC = balanced_accuracy_score(unhotted_test_labs, prediction)\n",
    "print('BMAC: %.3f' % BMAC)"
   ]
  },
  {
   "cell_type": "markdown",
   "metadata": {
    "id": "PTh1rtDn8r4-"
   },
   "source": [
    "Here you can see that with class weights the accuracy and precision are lower because there are more false positives, but conversely the recall and AUC are higher because the model also found more true positives. Despite having lower accuracy, this model has higher recall (and identifies more fraudulent transactions). Of course, there is a cost to both types of error (you wouldn't want to bug users by flagging too many legitimate transactions as fraudulent, either). Carefully consider the trade-offs between these different types of errors for your application."
   ]
  },
  {
   "cell_type": "markdown",
   "metadata": {
    "id": "5ysRtr6xHnXP"
   },
   "source": [
    "## Oversampling"
   ]
  },
  {
   "cell_type": "markdown",
   "metadata": {
    "id": "18VUHNc-UF5w"
   },
   "source": [
    "### Oversample the minority class\n",
    "\n",
    "A related approach would be to resample the dataset by oversampling the minority classes."
   ]
  },
  {
   "cell_type": "code",
   "execution_count": null,
   "metadata": {
    "id": "sHirNp6u7OWp"
   },
   "outputs": [],
   "source": [
    "cls0_features = train_features[cls0_bool]\n",
    "cls1_features = train_features[cls1_bool]\n",
    "cls2_features = train_features[cls2_bool]\n",
    "\n",
    "cls0_labels = train_labels[cls0_bool]\n",
    "cls1_labels = train_labels[cls1_bool]\n",
    "cls2_labels = train_labels[cls2_bool]"
   ]
  },
  {
   "cell_type": "markdown",
   "metadata": {
    "id": "IYfJe2Kc-FAz"
   },
   "source": [
    "#### Using `tf.data`"
   ]
  },
  {
   "cell_type": "markdown",
   "metadata": {
    "id": "usyixaST8v5P"
   },
   "source": [
    "If you're using `tf.data` the easiest way to produce balanced examples is to start with creating three separate datasets for the three classes and then merge them. See [the tf.data guide](../../guide/data.ipynb) for more examples."
   ]
  },
  {
   "cell_type": "code",
   "execution_count": null,
   "metadata": {
    "id": "yF4OZ-rI6xb6"
   },
   "outputs": [],
   "source": [
    "BUFFER_SIZE = 10000\n",
    "\n",
    "def make_ds(features, labels):\n",
    "    ds = tf.data.Dataset.from_tensor_slices((features, labels)) #.cache()\n",
    "    ds = ds.shuffle(BUFFER_SIZE).repeat()\n",
    "    return ds\n",
    "\n",
    "cls0_ds = make_ds(cls0_features, cls0_labels)\n",
    "cls1_ds = make_ds(cls1_features, cls1_labels)\n",
    "cls2_ds = make_ds(cls2_features, cls2_labels)"
   ]
  },
  {
   "cell_type": "markdown",
   "metadata": {
    "id": "RNQUx-OA-oJc"
   },
   "source": [
    "Each dataset provides `(feature, label)` pairs:"
   ]
  },
  {
   "cell_type": "code",
   "execution_count": null,
   "metadata": {
    "id": "llXc9rNH7Fbz"
   },
   "outputs": [],
   "source": [
    "for features, label in cls1_ds.take(1):\n",
    "    print(\"Features:\\n\", features.numpy()[0:25])\n",
    "    print()\n",
    "    print(\"Label: \", label.numpy())"
   ]
  },
  {
   "cell_type": "markdown",
   "metadata": {
    "id": "sLEfjZO0-vbN"
   },
   "source": [
    "Merge the three together using `experimental.sample_from_datasets`:"
   ]
  },
  {
   "cell_type": "code",
   "execution_count": null,
   "metadata": {
    "id": "e7w9UQPT9wzE"
   },
   "outputs": [],
   "source": [
    "resampled_ds = tf.data.experimental.sample_from_datasets([cls0_ds, cls1_ds, cls2_ds], weights=[0.3, 0.3, 0.3])\n",
    "resampled_ds = resampled_ds.batch(BATCH_SIZE).prefetch(2)"
   ]
  },
  {
   "cell_type": "code",
   "execution_count": null,
   "metadata": {
    "id": "EWXARdTdAuQK"
   },
   "outputs": [],
   "source": [
    "for features, label in resampled_ds.take(1):\n",
    "    print(label.numpy()[1:10])\n",
    "    print(len(label.numpy()))"
   ]
  },
  {
   "cell_type": "markdown",
   "metadata": {
    "id": "irgqf3YxAyN0"
   },
   "source": [
    "To use this dataset, you'll need the number of steps per epoch.\n",
    "\n",
    "The definition of \"epoch\" in this case is less clear. Say it's the number of batches required to see each negative example once:"
   ]
  },
  {
   "cell_type": "code",
   "execution_count": null,
   "metadata": {
    "id": "xH-7K46AAxpq"
   },
   "outputs": [],
   "source": [
    "resampled_steps_per_epoch = np.ceil(3.0*cls1/BATCH_SIZE)\n",
    "resampled_steps_per_epoch"
   ]
  },
  {
   "cell_type": "markdown",
   "metadata": {
    "id": "XZ1BvEpcBVHP"
   },
   "source": [
    "### Train on the oversampled data\n",
    "\n",
    "Now try training the model with the resampled data set instead of using class weights to see how these methods compare.\n",
    "\n",
    "Note: Because the data was balanced by replicating the two minority classes, the total dataset size is larger, and each epoch runs for more training steps. "
   ]
  },
  {
   "cell_type": "code",
   "execution_count": null,
   "metadata": {
    "id": "soRQ89JYqd6b"
   },
   "outputs": [],
   "source": [
    "resampled_model = make_model()\n",
    "resampled_model.load_weights(initial_weights)\n",
    "\n",
    "# Reset the bias to zero, since this dataset is balanced.\n",
    "output_layer = resampled_model.layers[-1] \n",
    "output_layer.bias.assign([0, 0, 0])\n",
    "\n",
    "val_ds = tf.data.Dataset.from_tensor_slices((val_features, val_labels)).cache()\n",
    "val_ds = val_ds.batch(BATCH_SIZE).prefetch(2) \n",
    "\n",
    "resampled_history = resampled_model.fit(\n",
    "    resampled_ds,\n",
    "    epochs=EPOCHS,\n",
    "    steps_per_epoch=resampled_steps_per_epoch,\n",
    "    callbacks = [early_stopping],\n",
    "    validation_data=val_ds,\n",
    "    verbose=0)"
   ]
  },
  {
   "cell_type": "markdown",
   "metadata": {
    "id": "avALvzUp3T_c"
   },
   "source": [
    "If the training process were considering the whole dataset on each gradient update, this oversampling would be basically identical to the class weighting.\n",
    "\n",
    "But when training the model batch-wise, as you did here, the oversampled data provides a smoother gradient signal: Instead of each positive example being shown in one batch with a large weight, they're shown in many different batches each time with a small weight. \n",
    "\n",
    "This smoother gradient signal makes it easier to train the model."
   ]
  },
  {
   "cell_type": "markdown",
   "metadata": {
    "id": "klHZ0HV76VC5"
   },
   "source": [
    "### Check training history\n",
    "\n",
    "Note that the distributions of metrics will be different here, because the training data has a totally different distribution from the validation and test data. "
   ]
  },
  {
   "cell_type": "code",
   "execution_count": null,
   "metadata": {
    "id": "YoUGfr1vuivl"
   },
   "outputs": [],
   "source": [
    "plot_metrics(resampled_history)"
   ]
  },
  {
   "cell_type": "markdown",
   "metadata": {
    "id": "1PuH3A2vnwrh"
   },
   "source": [
    "### Re-train\n"
   ]
  },
  {
   "cell_type": "markdown",
   "metadata": {
    "id": "KFLxRL8eoDE5"
   },
   "source": [
    "Because training is easier on the balanced data, the above training procedure may overfit quickly. \n",
    "\n",
    "So break up the epochs to give the `callbacks.EarlyStopping` finer control over when to stop training."
   ]
  },
  {
   "cell_type": "code",
   "execution_count": null,
   "metadata": {
    "id": "e_yn9I26qAHU"
   },
   "outputs": [],
   "source": [
    "resampled_model = make_model()\n",
    "resampled_model.load_weights(initial_weights)\n",
    "\n",
    "# Reset the bias to zero, since this dataset is balanced.\n",
    "output_layer = resampled_model.layers[-1] \n",
    "output_layer.bias.assign([0, 0, 0])\n",
    "\n",
    "resampled_history = resampled_model.fit(\n",
    "    resampled_ds,\n",
    "    # These are not real epochs\n",
    "    steps_per_epoch = 20,\n",
    "    epochs=10*EPOCHS,\n",
    "    callbacks = [early_stopping],\n",
    "    validation_data=(val_ds),\n",
    "    verbose=0)"
   ]
  },
  {
   "cell_type": "markdown",
   "metadata": {
    "id": "UuJYKv0gpBK1"
   },
   "source": [
    "### Re-check training history"
   ]
  },
  {
   "cell_type": "code",
   "execution_count": null,
   "metadata": {
    "id": "FMycrpJwn39w"
   },
   "outputs": [],
   "source": [
    "plot_metrics(resampled_history)"
   ]
  },
  {
   "cell_type": "markdown",
   "metadata": {
    "id": "bUuE5HOWZiwP"
   },
   "source": [
    "### Evaluate metrics"
   ]
  },
  {
   "cell_type": "code",
   "execution_count": null,
   "metadata": {
    "id": "C0fmHSgXxFdW"
   },
   "outputs": [],
   "source": [
    "train_predictions_resampled = resampled_model.predict(train_features, batch_size=BATCH_SIZE)\n",
    "test_predictions_resampled = resampled_model.predict(test_features, batch_size=BATCH_SIZE)"
   ]
  },
  {
   "cell_type": "code",
   "execution_count": null,
   "metadata": {
    "id": "FO0mMOYUDWFk"
   },
   "outputs": [],
   "source": [
    "resampled_results = resampled_model.evaluate(test_features, test_labels,\n",
    "                                             batch_size=BATCH_SIZE, verbose=0)\n",
    "for name, value in zip(resampled_model.metrics_names, resampled_results):\n",
    "    print(name, ': ', value)\n",
    "print()\n",
    "\n",
    "plot_cm(test_labels, test_predictions_resampled)"
   ]
  },
  {
   "cell_type": "markdown",
   "metadata": {},
   "source": [
    "### Calculate BMAC"
   ]
  },
  {
   "cell_type": "code",
   "execution_count": null,
   "metadata": {},
   "outputs": [],
   "source": [
    "prediction = np.argmax(test_predictions_resampled, -1)\n",
    "unhotted_test_labs = np.argmax(test_labels, -1)\n",
    "BMAC = balanced_accuracy_score(unhotted_test_labs, prediction)\n",
    "print('BMAC: %.3f' % BMAC)"
   ]
  }
 ],
 "metadata": {
  "kernelspec": {
   "display_name": "latentspace",
   "language": "python",
   "name": "latentspace"
  },
  "language_info": {
   "codemirror_mode": {
    "name": "ipython",
    "version": 3
   },
   "file_extension": ".py",
   "mimetype": "text/x-python",
   "name": "python",
   "nbconvert_exporter": "python",
   "pygments_lexer": "ipython3",
   "version": "3.6.10"
  }
 },
 "nbformat": 4,
 "nbformat_minor": 4
}
